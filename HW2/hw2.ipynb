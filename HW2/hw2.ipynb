{
 "cells": [
  {
   "cell_type": "markdown",
   "metadata": {},
   "source": [
    "## Question 2"
   ]
  },
  {
   "cell_type": "code",
   "execution_count": 1,
   "metadata": {},
   "outputs": [],
   "source": [
    "# Binary classification\n",
    "# Emulate the XOR logical gate\n",
    "# 1 hidden layer\n",
    "\n",
    "import numpy as np\n",
    "import pandas as pd\n",
    "\n",
    "# Define the AND dataset\n",
    "X = np.array([[0, 0], [0, 1], [1, 0], [1, 1]], dtype=np.float32)\n",
    "y = np.array([[0, 0, 0, 1]], dtype=np.float32)\n",
    "\n",
    "# Define size parameters\n",
    "hidden_size = 5\n",
    "input_size = 2\n",
    "output_size = 1\n",
    "\n",
    "# Set seed to make it reproduceable\n",
    "np.random.seed(1)\n",
    "\n",
    "# Random initialization\n",
    "W1 = np.random.randn(hidden_size, input_size)\n",
    "b1 = np.zeros((hidden_size, 1))\n",
    "W2 = np.random.randn(output_size, hidden_size)\n",
    "b2 = np.zeros((output_size, 1))\n",
    "\n",
    "def relu(z):\n",
    "    return np.maximum(0, z)\n",
    "\n",
    "def d_relu(z):\n",
    "    return np.where(z > 0, 1, 0)\n",
    "\n",
    "def forward(x, W1, W2, b1, b2):\n",
    "    z1 = np.dot(W1, x) + b1\n",
    "    a1 = relu(z1)\n",
    "    z2 = np.dot(W2, a1) + b2\n",
    "    a2 = relu(z2)\n",
    "    return a1, a2\n",
    "\n",
    "def loss(a2, y):\n",
    "    return np.mean((np.squeeze(a2)-y)**2)\n",
    "\n",
    "def back_prop(x, y, a1, a2, W1, W2):\n",
    "    dz2 = (a2 - y)\n",
    "    dw2 = np.dot(dz2, a1.T)\n",
    "    db2 = np.sum(dz2, axis=1, keepdims=True)\n",
    "    \n",
    "    dz1 = np.multiply(np.dot(W2.T, dz2), d_relu(a1))\n",
    "    dw1 = np.dot(dz1, x.T)\n",
    "    db1 = np.sum(dz1, axis=1, keepdims=True)\n",
    "\n",
    "    return dw1, db1, dw2, db2\n",
    "\n",
    "def update_weights(W1, b1, W2, b2, dw1, db1, dw2, db2, learning_rate):\n",
    "    W1 -= learning_rate * dw1\n",
    "    b1 -= learning_rate * db1\n",
    "    W2 -= learning_rate * dw2\n",
    "    b2 -= learning_rate * db2\n",
    "\n"
   ]
  },
  {
   "cell_type": "code",
   "execution_count": 2,
   "metadata": {},
   "outputs": [
    {
     "data": {
      "text/plain": [
       "2"
      ]
     },
     "execution_count": 2,
     "metadata": {},
     "output_type": "execute_result"
    }
   ],
   "source": [
    "X.shape[1]"
   ]
  },
  {
   "cell_type": "code",
   "execution_count": 3,
   "metadata": {},
   "outputs": [
    {
     "name": "stdout",
     "output_type": "stream",
     "text": [
      "Loss: 0.8071006335864577\n",
      "Loss: 5.789826895314128e-33\n",
      "Loss: 5.789826895314128e-33\n",
      "Loss: 5.789826895314128e-33\n",
      "Loss: 5.789826895314128e-33\n",
      "Loss: 5.789826895314128e-33\n",
      "Loss: 5.789826895314128e-33\n",
      "Loss: 5.789826895314128e-33\n",
      "Loss: 5.789826895314128e-33\n",
      "Loss: 5.789826895314128e-33\n",
      "Predictions: [[0. 0. 0. 1.]]\n"
     ]
    }
   ],
   "source": [
    "epochs = 10000\n",
    "learning_rate = 0.1\n",
    "\n",
    "for epoch in range(epochs):\n",
    "    a1, a2= forward(X.T, W1, W2, b1, b2)\n",
    "    cost = loss(a2, y)\n",
    "    \n",
    "    dw1, db1, dw2, db2 = back_prop(X.T, y, a1, a2, W1, W2)\n",
    "    update_weights(W1, b1, W2, b2, dw1, db1, dw2, db2, learning_rate)\n",
    "    \n",
    "    if epoch % 1000 == 0:\n",
    "        print(f\"Loss: {cost}\")\n",
    "\n",
    "# Test the model\n",
    "test_input = np.array([[0, 0], [0, 1], [1, 0], [1, 1]], dtype=np.float32)\n",
    "_, predictions = forward(test_input.T,  W1, W2, b1, b2)\n",
    "predictions = np.round(predictions)  # Apply threshold\n",
    "print(f\"Predictions: {predictions}\")\n",
    "\n"
   ]
  },
  {
   "cell_type": "markdown",
   "metadata": {},
   "source": [
    "## Question 3"
   ]
  },
  {
   "cell_type": "code",
   "execution_count": 22,
   "metadata": {},
   "outputs": [],
   "source": [
    "import numpy as np\n",
    "import pandas as pd\n",
    "import tensorflow as tf\n",
    "from sklearn.datasets import load_iris\n",
    "from sklearn.model_selection import train_test_split\n",
    "from sklearn.preprocessing import StandardScaler, OneHotEncoder\n",
    "from keras.models import Sequential\n",
    "from keras.layers import Dense\n",
    "from keras.optimizers import Adam\n",
    "from sklearn.metrics import accuracy_score, f1_score, confusion_matrix\n",
    "from sklearn.svm import SVC\n",
    "from sklearn.ensemble import RandomForestClassifier\n",
    "from xgboost import XGBClassifier\n",
    "\n",
    "iris = load_iris()"
   ]
  },
  {
   "cell_type": "code",
   "execution_count": 54,
   "metadata": {},
   "outputs": [],
   "source": [
    "# Split the data into training and testing sets\n",
    "X = iris.data\n",
    "y = iris.target\n",
    "X_train, X_test, y_train, y_test = train_test_split(X, y, test_size=0.3, random_state=42)\n",
    "\n",
    "# Scale the features\n",
    "scaler = StandardScaler()\n",
    "X_train = scaler.fit_transform(X_train)\n",
    "X_test = scaler.transform(X_test)\n",
    "\n",
    "# One-hot encode the target variable\n",
    "# Ideal since output of NN is a vector of probabilities\n",
    "encoder = OneHotEncoder()\n",
    "y_train = encoder.fit_transform(y_train.reshape(-1, 1)).toarray()\n",
    "y_test = encoder.transform(y_test.reshape(-1, 1)).toarray()\n"
   ]
  },
  {
   "cell_type": "code",
   "execution_count": 55,
   "metadata": {},
   "outputs": [],
   "source": [
    "# Build\n",
    "model = Sequential()\n",
    "model.add(Dense(8, input_dim=X.shape[1], activation='relu'))\n",
    "model.add(Dense(8, activation='relu'))\n",
    "model.add(Dense(3, activation='softmax'))\n",
    "\n",
    "model.compile(optimizer=Adam(learning_rate=0.01), loss='categorical_crossentropy', metrics=['accuracy'])"
   ]
  },
  {
   "cell_type": "markdown",
   "metadata": {},
   "source": [
    "Architecture summary:\n",
    "- 3 layers\n",
    "- Input dim: 4. There are 4 features.\n",
    "- Input layer has 8 neurons: found through trial and error. Started with 64, divided by 2 every time. All achieved 100% accuracy with minimal increase in loss. Thus, it is obvious that the simpler architecture is better.\n",
    "- Hidden layer has 8 neurons: found through trial and error: found through trial and error. Started with 64, divided by 2 every time. All achieved 100% accuracy with minimal increase in loss. Thus, it is obvious that the simpler architecture is better.\n",
    "- Output layer has 3 neurons: we are predicting the probability that a data point will belong into 1 of 3 classes. Thus, 3 output neurons are needed\n",
    "\n",
    "Hyperparameter Selection:\n",
    "- Activation: ReLU avoids the vanishing gradient problem that sigmoid or tanh functions experience\n",
    "- Activation for output layer: Softmax is able to generate a vector of probabilities used for classification, which the problem is.\n",
    "- Optimizer: Adam uses adaptive learning rate for each parameter to prevent the gradient from oscilating due to incorrect learning rate, and it adds momentum to the gradient (add a small part of the previous gradient to the current one) to help the algorithm converge.\n",
    "- Learning rate: it is typical to start with 0.01 as learning rate.\n",
    "- Loss: Since we are solving a classification problem with more than 1 class, we want to use a cross entropy (log) loss. We use categorical because we one-hot encoded the response. If it hadn't been, sparse categorical cross entropy would be more appropriate.\n",
    "- Metrics: Since we are solving a classification problem, accuracy would be the appropriate metric.\n",
    "- Epochs: Ensures model is able to fully learn the patterns and not underfit. For added efficiency and decreased computation time, early stopping based on loss will be implemented.\n",
    "- Batch size: 64 provides a balance between speed and memory requirements"
   ]
  },
  {
   "cell_type": "code",
   "execution_count": 56,
   "metadata": {},
   "outputs": [
    {
     "name": "stdout",
     "output_type": "stream",
     "text": [
      "WARNING:tensorflow:5 out of the last 13 calls to <function Model.make_test_function.<locals>.test_function at 0x7fe2f412b5b0> triggered tf.function retracing. Tracing is expensive and the excessive number of tracings could be due to (1) creating @tf.function repeatedly in a loop, (2) passing tensors with different shapes, (3) passing Python objects instead of tensors. For (1), please define your @tf.function outside of the loop. For (2), @tf.function has reduce_retracing=True option that can avoid unnecessary retracing. For (3), please refer to https://www.tensorflow.org/guide/function#controlling_retracing and https://www.tensorflow.org/api_docs/python/tf/function for  more details.\n",
      "2/2 [==============================] - 0s 2ms/step - loss: 0.0281 - accuracy: 1.0000\n",
      "Test result for accuracy: 100.000 loss: 0.028\n"
     ]
    }
   ],
   "source": [
    "# Early stopping criteria\n",
    "callback = tf.keras.callbacks.EarlyStopping(monitor='loss', patience=3)\n",
    "\n",
    "# Train \n",
    "# No val set\n",
    "history = model.fit(X_train, y_train, batch_size=64, epochs=1000, verbose=0, callbacks = [callback])\n",
    "\n",
    "# Testing\n",
    "scores = model.evaluate(X_test, y_test, batch_size=64, verbose=1)\n",
    "print('Test result for accuracy: %.3f loss: %.3f' % (scores[1]*100,scores[0]))"
   ]
  },
  {
   "cell_type": "code",
   "execution_count": 34,
   "metadata": {},
   "outputs": [
    {
     "name": "stdout",
     "output_type": "stream",
     "text": [
      "Accuracy using random forest classifier is 1.0\n",
      "Accuracy using XGB classifier is 1.0\n"
     ]
    }
   ],
   "source": [
    "# Random forest\n",
    "rf = RandomForestClassifier()\n",
    "rf.fit(X_train, y_train.argmax(axis=1))\n",
    "y_pred_rf = rf.predict(X_test)\n",
    "accuracy_rf = accuracy_score(y_test.argmax(axis=1), y_pred_rf)\n",
    "\n",
    "# XGBoost\n",
    "xgb = XGBClassifier()\n",
    "xgb.fit(X_train, y_train.argmax(axis=1))\n",
    "y_pred_xgb = xgb.predict(X_test)\n",
    "accuracy_xgb = accuracy_score(y_test.argmax(axis=1), y_pred_xgb)\n",
    "\n",
    "print(f\"Accuracy using random forest classifier is {accuracy_rf}\")\n",
    "print(f\"Accuracy using XGB classifier is {accuracy_xgb}\")"
   ]
  },
  {
   "cell_type": "markdown",
   "metadata": {},
   "source": [
    "XGB, RF, and NN all have 100% accuracy. This goes to show that sometimes simpler models can perform better than more complicated models, and is often prefered due to cost, efficiency, and running time."
   ]
  },
  {
   "cell_type": "markdown",
   "metadata": {},
   "source": [
    "## Question 4"
   ]
  },
  {
   "cell_type": "code",
   "execution_count": 40,
   "metadata": {},
   "outputs": [],
   "source": [
    "import matplotlib.pyplot as plt\n",
    "\n",
    "# Create sine function\n",
    "x_train = np.random.uniform(-np.pi, np.pi, 1000)\n",
    "y_train = np.sin(x_train)\n",
    "x_test = np.linspace(-np.pi, np.pi, 100)"
   ]
  },
  {
   "cell_type": "code",
   "execution_count": 50,
   "metadata": {},
   "outputs": [],
   "source": [
    "# Build the model\n",
    "model = Sequential()\n",
    "model.add(Dense(16, activation='relu', input_dim=1))\n",
    "model.add(Dense(16, activation='relu'))\n",
    "model.add(Dense(1, activation='linear'))"
   ]
  },
  {
   "cell_type": "markdown",
   "metadata": {},
   "source": [
    "Architecture summary:\n",
    "- 3 layers\n",
    "- Input dim: 1. There is 1 feature\n",
    "- Input layer has 16 neurons: found through trial and error. Started with 64 neurons, then 32, then 16. 16 neurons is a smaller architecture with almost as good performance as seen in the plot below.\n",
    "- Hidden layer has 16 neurons: found through trial and error. Started with 64 neurons, then 32, then 16. 16 neurons is a smaller architecture with almost as good performance as seen in the plot below.\n",
    "- Output layer has 1 neuron: output is 1 single number.\n",
    "\n",
    "Hyperparameter Selection:\n",
    "- Activation: ReLU avoids the vanishing gradient problem that sigmoid or tanh functions experience\n",
    "- Activation for output layer: Since we are solving a regression problem, the output activation should be linear as the values are unbounded, unlike classification problem where we need the probabilities\n",
    "- Learning rate: it is typical to start with 0.01 as learning rate.\n",
    "- Loss: Since we are solving a regression problem, MSE is an appropriate loss function\n",
    "- Epochs: 1000 ensures model is able to fully learn the patterns and not underfit.\n",
    "- Batch size: 64 provides a balance between speed and memory requirements"
   ]
  },
  {
   "cell_type": "code",
   "execution_count": 51,
   "metadata": {},
   "outputs": [
    {
     "name": "stdout",
     "output_type": "stream",
     "text": [
      "4/4 [==============================] - 0s 701us/step\n"
     ]
    },
    {
     "data": {
      "image/png": "[encoded data removed]",
      "text/plain": [
       "<Figure size 640x480 with 1 Axes>"
      ]
     },
     "metadata": {},
     "output_type": "display_data"
    }
   ],
   "source": [
    "model.compile(optimizer=Adam(learning_rate=0.01), loss='mse')\n",
    "\n",
    "# Train the model\n",
    "history = model.fit(x_train, y_train, batch_size=32, epochs=1000, verbose=0)\n",
    "\n",
    "# Predict and plot the learned mapping\n",
    "y_pred = model.predict(x_test)\n",
    "\n",
    "plt.plot(x_test, y_pred, label='Predicted Sine Wave')\n",
    "plt.plot(x_test, np.sin(x_test), label='True Sine Wave')\n",
    "plt.xlabel('x')\n",
    "plt.ylabel('y')\n",
    "plt.legend()\n",
    "plt.show()"
   ]
  }
 ],
 "metadata": {
  "kernelspec": {
   "display_name": "Python 3.10.6 ('fitx-env')",
   "language": "python",
   "name": "python3"
  },
  "language_info": {
   "codemirror_mode": {
    "name": "ipython",
    "version": 3
   },
   "file_extension": ".py",
   "mimetype": "text/x-python",
   "name": "python",
   "nbconvert_exporter": "python",
   "pygments_lexer": "ipython3",
   "version": "3.10.6"
  },
  "orig_nbformat": 4,
  "vscode": {
   "interpreter": {
    "hash": "f808375ee0c26230367b99300a1024ca25862f53bfe999a5a2c7ec48916b47de"
   }
  }
 },
 "nbformat": 4,
 "nbformat_minor": 2
}
