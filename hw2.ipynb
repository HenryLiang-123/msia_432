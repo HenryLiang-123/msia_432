{
 "cells": [
  {
   "cell_type": "markdown",
   "metadata": {},
   "source": [
    "## Question 2"
   ]
  },
  {
   "cell_type": "code",
   "execution_count": 94,
   "metadata": {},
   "outputs": [],
   "source": [
    "# Binary classification\n",
    "# Emulate the XOR logical gate\n",
    "# 1 hidden layer\n",
    "\n",
    "import numpy as np\n",
    "import pandas as pd\n",
    "\n",
    "# Define the AND dataset\n",
    "X = np.array([[0, 0], [0, 1], [1, 0], [1, 1]], dtype=np.float32)\n",
    "y = np.array([[0, 0, 0, 1]], dtype=np.float32)\n",
    "\n",
    "# Define size parameters\n",
    "hidden_size = 5\n",
    "input_size = 2\n",
    "output_size = 1\n",
    "\n",
    "# Set seed to make it reproduceable\n",
    "np.random.seed(1)\n",
    "\n",
    "# Random initialization\n",
    "W1 = np.random.randn(hidden_size, input_size)\n",
    "b1 = np.zeros((hidden_size, 1))\n",
    "W2 = np.random.randn(output_size, hidden_size)\n",
    "b2 = np.zeros((output_size, 1))\n",
    "\n",
    "def relu(z):\n",
    "    return np.maximum(0, z)\n",
    "\n",
    "def d_relu(z):\n",
    "    return np.where(z > 0, 1, 0)\n",
    "\n",
    "def forward(x, W1, W2, b1, b2):\n",
    "    z1 = np.dot(W1, x) + b1\n",
    "    a1 = relu(z1)\n",
    "    z2 = np.dot(W2, a1) + b2\n",
    "    a2 = relu(z2)\n",
    "    return a1, a2\n",
    "\n",
    "def loss(a2, y):\n",
    "    return np.mean((np.squeeze(a2)-y)**2)\n",
    "\n",
    "def back_prop(x, y, a1, a2, W1, W2):\n",
    "    dz2 = (a2 - y)\n",
    "    dw2 = np.dot(dz2, a1.T)\n",
    "    db2 = np.sum(dz2, axis=1, keepdims=True)\n",
    "    \n",
    "    dz1 = np.multiply(np.dot(W2.T, dz2), d_relu(a1))\n",
    "    dw1 = np.dot(dz1, x.T)\n",
    "    db1 = np.sum(dz1, axis=1, keepdims=True)\n",
    "\n",
    "    return dw1, db1, dw2, db2\n",
    "\n",
    "def update_weights(W1, b1, W2, b2, dw1, db1, dw2, db2, learning_rate):\n",
    "    W1 -= learning_rate * dw1\n",
    "    b1 -= learning_rate * db1\n",
    "    W2 -= learning_rate * dw2\n",
    "    b2 -= learning_rate * db2\n",
    "\n"
   ]
  },
  {
   "cell_type": "code",
   "execution_count": 91,
   "metadata": {},
   "outputs": [
    {
     "data": {
      "text/plain": [
       "2"
      ]
     },
     "execution_count": 91,
     "metadata": {},
     "output_type": "execute_result"
    }
   ],
   "source": [
    "X.shape[1]"
   ]
  },
  {
   "cell_type": "code",
   "execution_count": 101,
   "metadata": {},
   "outputs": [
    {
     "name": "stdout",
     "output_type": "stream",
     "text": [
      "Loss: 5.789826895314128e-33\n",
      "Loss: 5.789826895314128e-33\n",
      "Loss: 5.789826895314128e-33\n",
      "Loss: 5.789826895314128e-33\n",
      "Loss: 5.789826895314128e-33\n",
      "Loss: 5.789826895314128e-33\n",
      "Loss: 5.789826895314128e-33\n",
      "Loss: 5.789826895314128e-33\n",
      "Loss: 5.789826895314128e-33\n",
      "Loss: 5.789826895314128e-33\n",
      "Predictions: [[0. 0. 0. 1.]]\n"
     ]
    }
   ],
   "source": [
    "epochs = 10000\n",
    "learning_rate = 0.1\n",
    "\n",
    "for epoch in range(epochs):\n",
    "    a1, a2= forward(X.T, W1, W2, b1, b2)\n",
    "    cost = loss(a2, y)\n",
    "    \n",
    "    dw1, db1, dw2, db2 = back_prop(X.T, y, a1, a2, W1, W2)\n",
    "    update_weights(W1, b1, W2, b2, dw1, db1, dw2, db2, learning_rate)\n",
    "    \n",
    "    if epoch % 1000 == 0:\n",
    "        print(f\"Loss: {cost}\")\n",
    "\n",
    "# Test the model\n",
    "test_input = np.array([[0, 0], [0, 1], [1, 0], [1, 1]], dtype=np.float32)\n",
    "_, predictions = forward(test_input.T,  W1, W2, b1, b2)\n",
    "predictions = np.round(predictions)  # Apply threshold\n",
    "print(f\"Predictions: {predictions}\")\n",
    "\n"
   ]
  },
  {
   "cell_type": "code",
   "execution_count": null,
   "metadata": {},
   "outputs": [],
   "source": []
  }
 ],
 "metadata": {
  "kernelspec": {
   "display_name": "Python 3.10.6 ('fitx-env')",
   "language": "python",
   "name": "python3"
  },
  "language_info": {
   "codemirror_mode": {
    "name": "ipython",
    "version": 3
   },
   "file_extension": ".py",
   "mimetype": "text/x-python",
   "name": "python",
   "nbconvert_exporter": "python",
   "pygments_lexer": "ipython3",
   "version": "3.10.6"
  },
  "orig_nbformat": 4,
  "vscode": {
   "interpreter": {
    "hash": "f808375ee0c26230367b99300a1024ca25862f53bfe999a5a2c7ec48916b47de"
   }
  }
 },
 "nbformat": 4,
 "nbformat_minor": 2
}
